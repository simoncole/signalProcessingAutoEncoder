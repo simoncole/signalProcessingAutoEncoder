{
 "cells": [
  {
   "cell_type": "code",
   "execution_count": 34,
   "metadata": {},
   "outputs": [],
   "source": [
    "import numpy as np\n",
    "import matplotlib.pyplot as plt\n",
    "import torch\n",
    "import torch.nn as nn\n",
    "import torch.optim as optim\n",
    "from torch.utils.data import Dataset, DataLoader\n",
    "\n",
    "#system parameters\n",
    "M = 6        #num states\n",
    "Q = 20       #num time slots\n",
    "B = 1        #Power constraint\n",
    "R = 1 / Q    #rate of communicaiton\n",
    " \n",
    "N = 100000    #num training samples\n",
    "batch_size = 128\n",
    "epochs = 10\n"
   ]
  },
  {
   "cell_type": "code",
   "execution_count": 35,
   "metadata": {},
   "outputs": [],
   "source": [
    "#generating random messages\n",
    "messages = np.random.randint(0, M, size=N)\n",
    "S_i = np.eye(M)[messages]  #convert to one-hot\n",
    "\n",
    "class CommunicationDataset(Dataset):\n",
    "    def __init__(self, S_i, messages):\n",
    "        self.S_i = torch.tensor(S_i, dtype=torch.float32)\n",
    "        self.messages = torch.tensor(messages, dtype=torch.long)\n",
    "        \n",
    "    def __len__(self):\n",
    "        return len(self.S_i)\n",
    "    \n",
    "    def __getitem__(self, idx):\n",
    "        return self.S_i[idx], self.messages[idx]\n",
    "\n",
    "dataset = CommunicationDataset(S_i, messages)\n",
    "dataloader = DataLoader(dataset, batch_size=batch_size, shuffle=True)\n"
   ]
  },
  {
   "cell_type": "code",
   "execution_count": 36,
   "metadata": {},
   "outputs": [],
   "source": [
    "class Autoencoder(nn.Module):\n",
    "    def __init__(self, M, Q, B):\n",
    "        super(Autoencoder, self).__init__()\n",
    "        self.M = M\n",
    "        self.Q = Q\n",
    "        self.B = B\n",
    "        self.encoder = nn.Sequential(\n",
    "            nn.Linear(M, 128),\n",
    "            nn.ReLU(),\n",
    "            nn.Linear(128, M * Q)\n",
    "        )\n",
    "        \n",
    "    def forward(self, input_signal):\n",
    "        x = self.encoder(input_signal)  \n",
    "        #reshape\n",
    "        x = x.view(-1, self.M, self.Q)  \n",
    "        power = torch.sum(x ** 2, dim=(1, 2), keepdim=True) / self.Q\n",
    "        #scale to power and return that\n",
    "        scaling_factor = torch.sqrt(power / self.B)\n",
    "        return x / scaling_factor\n",
    "        \n",
    "#fn describing the system model\n",
    "def channel_layer(x, s):\n",
    "    s_t = s.unsqueeze(1)  #(batch_size, 1, M)\n",
    "    y_signal = torch.bmm(s_t, x)  #(batch_size, 1, Q)\n",
    "    #add gaussian\n",
    "    noise = torch.randn_like(y_signal) \n",
    "    return y_signal + noise\n",
    "\n",
    "class Autodecoder(nn.Module):\n",
    "    def __init__(self, M, Q):\n",
    "        super(Autodecoder, self).__init__()\n",
    "        self.decoder = nn.Sequential(\n",
    "            nn.Flatten(),\n",
    "            nn.Linear(Q, 128),\n",
    "            nn.ReLU(),\n",
    "            nn.Linear(128, M)\n",
    "        )\n",
    "        \n",
    "    def forward(self, y):\n",
    "        return self.decoder(y)\n",
    "\n",
    "class EndToEndModel(nn.Module):\n",
    "    def __init__(self, M, Q, B):\n",
    "        super(EndToEndModel, self).__init__()\n",
    "        self.autoencoder = Autoencoder(M, Q, B)\n",
    "        self.autodecoder = Autodecoder(M, Q)\n",
    "        \n",
    "    def forward(self, s):\n",
    "        x = self.autoencoder(s)\n",
    "        y = channel_layer(x, s)\n",
    "        return self.autodecoder(y)\n"
   ]
  },
  {
   "cell_type": "code",
   "execution_count": 37,
   "metadata": {},
   "outputs": [
    {
     "name": "stdout",
     "output_type": "stream",
     "text": [
      "Epoch 1/10, Loss: 0.0213\n",
      "Epoch 2/10, Loss: 0.0142\n",
      "Epoch 3/10, Loss: 0.0115\n",
      "Epoch 4/10, Loss: 0.0105\n",
      "Epoch 5/10, Loss: 0.0103\n",
      "Epoch 6/10, Loss: 0.0102\n",
      "Epoch 7/10, Loss: 0.0088\n",
      "Epoch 8/10, Loss: 0.0086\n",
      "Epoch 9/10, Loss: 0.0085\n",
      "Epoch 10/10, Loss: 0.0076\n"
     ]
    }
   ],
   "source": [
    "#can change to cuda\n",
    "device = 'cpu'\n",
    "\n",
    "model = EndToEndModel(M, Q, B).to(device)\n",
    "criterion = nn.CrossEntropyLoss()\n",
    "# criterion = nn.MSELoss()\n",
    "optimizer = optim.Adam(model.parameters(), lr=0.01)\n",
    "\n",
    "loss_history = []\n",
    "\n",
    "model.train()\n",
    "for epoch in range(epochs):\n",
    "    running_loss = 0.0\n",
    "    for inputs, targets in dataloader:\n",
    "        inputs, targets = inputs.to(device), targets.to(device)\n",
    "        \n",
    "        optimizer.zero_grad()\n",
    "        outputs = model(inputs)\n",
    "        loss = criterion(outputs, targets)\n",
    "        loss.backward()\n",
    "        optimizer.step()\n",
    "        \n",
    "        running_loss += loss.item()\n",
    "    epoch_loss = running_loss / len(dataloader)\n",
    "    loss_history.append(epoch_loss)\n",
    "    print(f\"Epoch {epoch + 1}/{epochs}, Loss: {epoch_loss:.4f}\")\n"
   ]
  },
  {
   "cell_type": "code",
   "execution_count": 38,
   "metadata": {},
   "outputs": [
    {
     "data": {
      "image/png": "[encoded data removed]",
      "text/plain": [
       "<Figure size 432x288 with 1 Axes>"
      ]
     },
     "metadata": {
      "needs_background": "light"
     },
     "output_type": "display_data"
    }
   ],
   "source": [
    "plt.figure()\n",
    "plt.plot(range(1, epochs + 1), loss_history, marker='o')\n",
    "plt.title('Training Loss')\n",
    "plt.xlabel('Epoch')\n",
    "plt.ylabel('Loss')\n",
    "plt.grid()\n",
    "plt.show()\n"
   ]
  },
  {
   "cell_type": "code",
   "execution_count": 39,
   "metadata": {},
   "outputs": [
    {
     "name": "stdout",
     "output_type": "stream",
     "text": [
      "Bit Error Rate (BER): 0.0000\n"
     ]
    }
   ],
   "source": [
    "#making test data\n",
    "N_test = 1000\n",
    "messages_test = np.random.randint(0, M, size=N_test)\n",
    "S_i_test = np.eye(M)[messages_test]\n",
    "\n",
    "S_i_test_tensor = torch.tensor(S_i_test, dtype=torch.float32).to(device)\n",
    "messages_test_tensor = torch.tensor(messages_test, dtype=torch.long).to(device)\n",
    "\n",
    "model.eval()\n",
    "with torch.no_grad():\n",
    "    outputs = model(S_i_test_tensor)\n",
    "    predicted = torch.argmax(outputs, dim=1)\n",
    "    bit_errors = (predicted != messages_test_tensor).float()\n",
    "    BER = torch.mean(bit_errors).item()\n",
    "\n",
    "print(f\"Bit Error Rate (BER): {BER:.4f}\")\n"
   ]
  },
  {
   "cell_type": "code",
   "execution_count": 40,
   "metadata": {},
   "outputs": [
    {
     "name": "stdout",
     "output_type": "stream",
     "text": [
      "Average Power: 1.0000, Power Constraint: 1\n"
     ]
    }
   ],
   "source": [
    "with torch.no_grad():\n",
    "    inputs = torch.tensor(S_i[:10], dtype=torch.float32).to(device)\n",
    "    x = model.autoencoder(inputs)\n",
    "    average_power = torch.mean(torch.sum(x ** 2, dim=(1, 2)) / Q).item()\n",
    "    print(f\"Average Power: {average_power:.4f}, Power Constraint: {B}\")\n"
   ]
  },
  {
   "cell_type": "code",
   "execution_count": null,
   "metadata": {},
   "outputs": [
    {
     "name": "stdout",
     "output_type": "stream",
     "text": [
      "Testing M=4, Q=10, B=0.5\n",
      "Testing M=4, Q=10, B=1\n",
      "Testing M=4, Q=10, B=2\n",
      "Testing M=4, Q=20, B=0.5\n",
      "Testing M=4, Q=20, B=1\n",
      "Testing M=4, Q=20, B=2\n",
      "Testing M=6, Q=10, B=0.5\n",
      "Testing M=6, Q=10, B=1\n",
      "Testing M=6, Q=10, B=2\n",
      "Testing M=6, Q=20, B=0.5\n",
      "Testing M=6, Q=20, B=1\n",
      "Testing M=6, Q=20, B=2\n",
      "Testing M=8, Q=10, B=0.5\n",
      "Testing M=8, Q=10, B=1\n",
      "Testing M=8, Q=10, B=2\n",
      "Testing M=8, Q=20, B=0.5\n",
      "Testing M=8, Q=20, B=1\n",
      "Testing M=8, Q=20, B=2\n",
      "M=4, Q=10, B=0.5: BER=0.0760\n",
      "M=4, Q=10, B=1: BER=0.0160\n",
      "M=4, Q=10, B=2: BER=0.0000\n",
      "M=4, Q=20, B=0.5: BER=0.0090\n",
      "M=4, Q=20, B=1: BER=0.0000\n",
      "M=4, Q=20, B=2: BER=0.0000\n",
      "M=6, Q=10, B=0.5: BER=0.1360\n",
      "M=6, Q=10, B=1: BER=0.0420\n",
      "M=6, Q=10, B=2: BER=0.0000\n",
      "M=6, Q=20, B=0.5: BER=0.0340\n",
      "M=6, Q=20, B=1: BER=0.0010\n",
      "M=6, Q=20, B=2: BER=0.0010\n",
      "M=8, Q=10, B=0.5: BER=0.2150\n",
      "M=8, Q=10, B=1: BER=0.0540\n",
      "M=8, Q=10, B=2: BER=0.0080\n",
      "M=8, Q=20, B=0.5: BER=0.0660\n",
      "M=8, Q=20, B=1: BER=0.0030\n",
      "M=8, Q=20, B=2: BER=0.0000\n"
     ]
    }
   ],
   "source": [
    "#optional, for tuning params\n",
    "\n",
    "def train_and_evaluate(M, Q, B, N, epochs):\n",
    "    messages = np.random.randint(0, M, size=N)\n",
    "    S_i = np.eye(M)[messages]\n",
    "    dataset = CommunicationDataset(S_i, messages)\n",
    "    dataloader = DataLoader(dataset, batch_size=batch_size, shuffle=True)\n",
    "    \n",
    "    model = EndToEndModel(M, Q, B).to(device)\n",
    "    criterion = nn.CrossEntropyLoss()\n",
    "    optimizer = optim.Adam(model.parameters(), lr=0.01)\n",
    "    \n",
    "    model.train()\n",
    "    for epoch in range(epochs):\n",
    "        for inputs, targets in dataloader:\n",
    "            inputs, targets = inputs.to(device), targets.to(device)\n",
    "            optimizer.zero_grad()\n",
    "            outputs = model(inputs)\n",
    "            loss = criterion(outputs, targets)\n",
    "            loss.backward()\n",
    "            optimizer.step()\n",
    "    \n",
    "    messages_test = np.random.randint(0, M, size=1000)\n",
    "    S_i_test = np.eye(M)[messages_test]\n",
    "    S_i_test_tensor = torch.tensor(S_i_test, dtype=torch.float32).to(device)\n",
    "    messages_test_tensor = torch.tensor(messages_test, dtype=torch.long).to(device)\n",
    "    \n",
    "    model.eval()\n",
    "    with torch.no_grad():\n",
    "        outputs = model(S_i_test_tensor)\n",
    "        predicted = torch.argmax(outputs, dim=1)\n",
    "        bit_errors = (predicted != messages_test_tensor).float()\n",
    "        return torch.mean(bit_errors).item()\n",
    "\n",
    "M_values = [4, 6, 8]\n",
    "Q_values = [10, 20]\n",
    "B_values = [0.5, 1, 2]\n",
    "results = {}\n",
    "\n",
    "for M in M_values:\n",
    "    for Q in Q_values:\n",
    "        for B in B_values:\n",
    "            print(f\"Testing M={M}, Q={Q}, B={B}\")\n",
    "            BER = train_and_evaluate(M, Q, B, N, epochs)\n",
    "            results[f\"M={M}, Q={Q}, B={B}\"] = BER\n",
    "\n",
    "for key, BER in results.items():\n",
    "    print(f\"{key}: BER={BER:.4f}\")\n"
   ]
  },
  {
   "cell_type": "code",
   "execution_count": null,
   "metadata": {},
   "outputs": [],
   "source": []
  }
 ],
 "metadata": {
  "kernelspec": {
   "display_name": "Python 3 (ipykernel)",
   "language": "python",
   "name": "python3"
  }
 },
 "nbformat": 4,
 "nbformat_minor": 2
}
